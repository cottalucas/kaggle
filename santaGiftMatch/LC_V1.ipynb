{
 "cells": [
  {
   "cell_type": "code",
   "execution_count": 1,
   "metadata": {},
   "outputs": [],
   "source": [
    "import pandas as pd\n",
    "\n",
    "import numpy as np\n",
    "import itertools\n",
    "import scipy.stats as stats\n",
    "\n",
    "import os\n",
    "\n",
    "import matplotlib as mpl\n",
    "import matplotlib.pyplot as plt\n",
    "\n",
    "import time \n",
    "\n",
    "# increase the maximum datapoints plotable\n",
    "mpl.rcParams['agg.path.chunksize'] = 10000\n",
    "\n",
    "# autofill on jupyter\n",
    "%config IPCompleter.greedy=True\n",
    "\n",
    "# ploting inline\n",
    "%matplotlib inline\n",
    "\n",
    "# help\n",
    "#?str.split()"
   ]
  },
  {
   "cell_type": "code",
   "execution_count": 2,
   "metadata": {},
   "outputs": [],
   "source": [
    "# exteranl insertion\n",
    "# %load file.py\n",
    "\n",
    "# !ls"
   ]
  },
  {
   "cell_type": "code",
   "execution_count": 3,
   "metadata": {},
   "outputs": [],
   "source": [
    "cwd = os.getcwd()"
   ]
  },
  {
   "cell_type": "markdown",
   "metadata": {},
   "source": [
    "### Ingesting"
   ]
  },
  {
   "cell_type": "code",
   "execution_count": 4,
   "metadata": {},
   "outputs": [
    {
     "name": "stdout",
     "output_type": "stream",
     "text": [
      "CPU times: user 1.53 s, sys: 174 ms, total: 1.7 s\n",
      "Wall time: 1.8 s\n"
     ]
    }
   ],
   "source": [
    "%%time\n",
    "\n",
    "df_wishlist = pd.read_csv(cwd + \"/01_Input/child_wishlist.csv\", header=None)\n",
    "df_goodkids = pd.read_csv(cwd + \"/01_Input/gift_goodkids.csv\", header=None)\n",
    "df_sample_sub = pd.read_csv(cwd + \"/01_Input/sample_submission_random.csv\")"
   ]
  },
  {
   "cell_type": "markdown",
   "metadata": {},
   "source": [
    "### Exploratory"
   ]
  },
  {
   "cell_type": "markdown",
   "metadata": {},
   "source": [
    "### child wishlist"
   ]
  },
  {
   "cell_type": "code",
   "execution_count": 5,
   "metadata": {},
   "outputs": [
    {
     "data": {
      "text/plain": [
       "(1000000, 11)"
      ]
     },
     "execution_count": 5,
     "metadata": {},
     "output_type": "execute_result"
    }
   ],
   "source": [
    "df_wishlist.shape"
   ]
  },
  {
   "cell_type": "code",
   "execution_count": 6,
   "metadata": {},
   "outputs": [
    {
     "data": {
      "text/html": [
       "<div>\n",
       "<style scoped>\n",
       "    .dataframe tbody tr th:only-of-type {\n",
       "        vertical-align: middle;\n",
       "    }\n",
       "\n",
       "    .dataframe tbody tr th {\n",
       "        vertical-align: top;\n",
       "    }\n",
       "\n",
       "    .dataframe thead th {\n",
       "        text-align: right;\n",
       "    }\n",
       "</style>\n",
       "<table border=\"1\" class=\"dataframe\">\n",
       "  <thead>\n",
       "    <tr style=\"text-align: right;\">\n",
       "      <th></th>\n",
       "      <th>0</th>\n",
       "      <th>1</th>\n",
       "      <th>2</th>\n",
       "      <th>3</th>\n",
       "      <th>4</th>\n",
       "      <th>5</th>\n",
       "      <th>6</th>\n",
       "      <th>7</th>\n",
       "      <th>8</th>\n",
       "      <th>9</th>\n",
       "      <th>10</th>\n",
       "    </tr>\n",
       "  </thead>\n",
       "  <tbody>\n",
       "    <tr>\n",
       "      <th>0</th>\n",
       "      <td>0</td>\n",
       "      <td>871</td>\n",
       "      <td>409</td>\n",
       "      <td>547</td>\n",
       "      <td>423</td>\n",
       "      <td>660</td>\n",
       "      <td>679</td>\n",
       "      <td>281</td>\n",
       "      <td>220</td>\n",
       "      <td>834</td>\n",
       "      <td>152</td>\n",
       "    </tr>\n",
       "    <tr>\n",
       "      <th>1</th>\n",
       "      <td>1</td>\n",
       "      <td>929</td>\n",
       "      <td>421</td>\n",
       "      <td>498</td>\n",
       "      <td>226</td>\n",
       "      <td>345</td>\n",
       "      <td>156</td>\n",
       "      <td>229</td>\n",
       "      <td>900</td>\n",
       "      <td>749</td>\n",
       "      <td>692</td>\n",
       "    </tr>\n",
       "  </tbody>\n",
       "</table>\n",
       "</div>"
      ],
      "text/plain": [
       "   0    1    2    3    4    5    6    7    8    9    10\n",
       "0   0  871  409  547  423  660  679  281  220  834  152\n",
       "1   1  929  421  498  226  345  156  229  900  749  692"
      ]
     },
     "execution_count": 6,
     "metadata": {},
     "output_type": "execute_result"
    }
   ],
   "source": [
    "df_wishlist.head(2)"
   ]
  },
  {
   "cell_type": "code",
   "execution_count": 7,
   "metadata": {},
   "outputs": [],
   "source": [
    "# colunm renamed\n",
    "gift = [\"g\" + str(name) for name in range (10)]\n",
    "gift.insert(0, \"child\")\n",
    "df_wishlist.columns = gift"
   ]
  },
  {
   "cell_type": "code",
   "execution_count": 8,
   "metadata": {},
   "outputs": [
    {
     "data": {
      "text/html": [
       "<div>\n",
       "<style scoped>\n",
       "    .dataframe tbody tr th:only-of-type {\n",
       "        vertical-align: middle;\n",
       "    }\n",
       "\n",
       "    .dataframe tbody tr th {\n",
       "        vertical-align: top;\n",
       "    }\n",
       "\n",
       "    .dataframe thead th {\n",
       "        text-align: right;\n",
       "    }\n",
       "</style>\n",
       "<table border=\"1\" class=\"dataframe\">\n",
       "  <thead>\n",
       "    <tr style=\"text-align: right;\">\n",
       "      <th></th>\n",
       "      <th>child</th>\n",
       "      <th>g0</th>\n",
       "      <th>g1</th>\n",
       "      <th>g2</th>\n",
       "      <th>g3</th>\n",
       "      <th>g4</th>\n",
       "      <th>g5</th>\n",
       "      <th>g6</th>\n",
       "      <th>g7</th>\n",
       "      <th>g8</th>\n",
       "      <th>g9</th>\n",
       "    </tr>\n",
       "  </thead>\n",
       "  <tbody>\n",
       "    <tr>\n",
       "      <th>0</th>\n",
       "      <td>0</td>\n",
       "      <td>871</td>\n",
       "      <td>409</td>\n",
       "      <td>547</td>\n",
       "      <td>423</td>\n",
       "      <td>660</td>\n",
       "      <td>679</td>\n",
       "      <td>281</td>\n",
       "      <td>220</td>\n",
       "      <td>834</td>\n",
       "      <td>152</td>\n",
       "    </tr>\n",
       "    <tr>\n",
       "      <th>1</th>\n",
       "      <td>1</td>\n",
       "      <td>929</td>\n",
       "      <td>421</td>\n",
       "      <td>498</td>\n",
       "      <td>226</td>\n",
       "      <td>345</td>\n",
       "      <td>156</td>\n",
       "      <td>229</td>\n",
       "      <td>900</td>\n",
       "      <td>749</td>\n",
       "      <td>692</td>\n",
       "    </tr>\n",
       "  </tbody>\n",
       "</table>\n",
       "</div>"
      ],
      "text/plain": [
       "   child   g0   g1   g2   g3   g4   g5   g6   g7   g8   g9\n",
       "0      0  871  409  547  423  660  679  281  220  834  152\n",
       "1      1  929  421  498  226  345  156  229  900  749  692"
      ]
     },
     "execution_count": 8,
     "metadata": {},
     "output_type": "execute_result"
    }
   ],
   "source": [
    "df_wishlist.head(2)"
   ]
  },
  {
   "cell_type": "code",
   "execution_count": 9,
   "metadata": {},
   "outputs": [
    {
     "data": {
      "text/plain": [
       "1000"
      ]
     },
     "execution_count": 9,
     "metadata": {},
     "output_type": "execute_result"
    }
   ],
   "source": [
    "# unique gifts\n",
    "len(np.unique(df_wishlist.loc[:,\"g1\":\"g10\"].values))"
   ]
  },
  {
   "cell_type": "code",
   "execution_count": 10,
   "metadata": {},
   "outputs": [],
   "source": [
    "all_gifts = df_wishlist.loc[:,\"g0\":\"g9\"].values.tolist()\n",
    "all_gifts_flat = list(itertools.chain(*all_gifts))"
   ]
  },
  {
   "cell_type": "code",
   "execution_count": 11,
   "metadata": {},
   "outputs": [],
   "source": [
    "all_gifts_flat_ = pd.DataFrame(all_gifts_flat,columns=[\"g0\"])"
   ]
  },
  {
   "cell_type": "code",
   "execution_count": 12,
   "metadata": {},
   "outputs": [],
   "source": [
    "# check distribution\n",
    "# fit = stats.norm.pdf(all_gifts_flat, np.mean(all_gifts_flat), np.std(all_gifts_flat))\n",
    "\n",
    "# hmean = np.mean(all_gifts_flat)\n",
    "# hstd = np.std(all_gifts_flat)\n",
    "# pdf = stats.norm.pdf(all_gifts_flat, hmean, hstd)\n",
    "# plt.plot(all_gifts_flat, pdf)"
   ]
  },
  {
   "cell_type": "markdown",
   "metadata": {},
   "source": [
    "### gift good kids"
   ]
  },
  {
   "cell_type": "code",
   "execution_count": 13,
   "metadata": {},
   "outputs": [
    {
     "data": {
      "text/plain": [
       "(1000, 1001)"
      ]
     },
     "execution_count": 13,
     "metadata": {},
     "output_type": "execute_result"
    }
   ],
   "source": [
    "df_goodkids.shape"
   ]
  },
  {
   "cell_type": "code",
   "execution_count": 14,
   "metadata": {},
   "outputs": [
    {
     "data": {
      "text/html": [
       "<div>\n",
       "<style scoped>\n",
       "    .dataframe tbody tr th:only-of-type {\n",
       "        vertical-align: middle;\n",
       "    }\n",
       "\n",
       "    .dataframe tbody tr th {\n",
       "        vertical-align: top;\n",
       "    }\n",
       "\n",
       "    .dataframe thead th {\n",
       "        text-align: right;\n",
       "    }\n",
       "</style>\n",
       "<table border=\"1\" class=\"dataframe\">\n",
       "  <thead>\n",
       "    <tr style=\"text-align: right;\">\n",
       "      <th></th>\n",
       "      <th>0</th>\n",
       "      <th>1</th>\n",
       "      <th>2</th>\n",
       "      <th>3</th>\n",
       "      <th>4</th>\n",
       "      <th>5</th>\n",
       "      <th>6</th>\n",
       "      <th>7</th>\n",
       "      <th>8</th>\n",
       "      <th>9</th>\n",
       "      <th>...</th>\n",
       "      <th>991</th>\n",
       "      <th>992</th>\n",
       "      <th>993</th>\n",
       "      <th>994</th>\n",
       "      <th>995</th>\n",
       "      <th>996</th>\n",
       "      <th>997</th>\n",
       "      <th>998</th>\n",
       "      <th>999</th>\n",
       "      <th>1000</th>\n",
       "    </tr>\n",
       "  </thead>\n",
       "  <tbody>\n",
       "    <tr>\n",
       "      <th>0</th>\n",
       "      <td>0</td>\n",
       "      <td>1373</td>\n",
       "      <td>752341</td>\n",
       "      <td>100505</td>\n",
       "      <td>469875</td>\n",
       "      <td>854398</td>\n",
       "      <td>296716</td>\n",
       "      <td>564625</td>\n",
       "      <td>653466</td>\n",
       "      <td>783635</td>\n",
       "      <td>...</td>\n",
       "      <td>370958</td>\n",
       "      <td>727201</td>\n",
       "      <td>488828</td>\n",
       "      <td>191760</td>\n",
       "      <td>12036</td>\n",
       "      <td>101763</td>\n",
       "      <td>225121</td>\n",
       "      <td>257948</td>\n",
       "      <td>572060</td>\n",
       "      <td>876079</td>\n",
       "    </tr>\n",
       "    <tr>\n",
       "      <th>1</th>\n",
       "      <td>1</td>\n",
       "      <td>626294</td>\n",
       "      <td>218116</td>\n",
       "      <td>646840</td>\n",
       "      <td>15625</td>\n",
       "      <td>701320</td>\n",
       "      <td>71249</td>\n",
       "      <td>617497</td>\n",
       "      <td>341483</td>\n",
       "      <td>501812</td>\n",
       "      <td>...</td>\n",
       "      <td>271311</td>\n",
       "      <td>850930</td>\n",
       "      <td>189870</td>\n",
       "      <td>609739</td>\n",
       "      <td>575242</td>\n",
       "      <td>79309</td>\n",
       "      <td>642355</td>\n",
       "      <td>582890</td>\n",
       "      <td>573428</td>\n",
       "      <td>162350</td>\n",
       "    </tr>\n",
       "  </tbody>\n",
       "</table>\n",
       "<p>2 rows × 1001 columns</p>\n",
       "</div>"
      ],
      "text/plain": [
       "   0       1       2       3       4       5       6       7       8     \\\n",
       "0     0    1373  752341  100505  469875  854398  296716  564625  653466   \n",
       "1     1  626294  218116  646840   15625  701320   71249  617497  341483   \n",
       "\n",
       "     9      ...      991     992     993     994     995     996     997   \\\n",
       "0  783635   ...    370958  727201  488828  191760   12036  101763  225121   \n",
       "1  501812   ...    271311  850930  189870  609739  575242   79309  642355   \n",
       "\n",
       "     998     999     1000  \n",
       "0  257948  572060  876079  \n",
       "1  582890  573428  162350  \n",
       "\n",
       "[2 rows x 1001 columns]"
      ]
     },
     "execution_count": 14,
     "metadata": {},
     "output_type": "execute_result"
    }
   ],
   "source": [
    "df_goodkids.head(2)"
   ]
  },
  {
   "cell_type": "code",
   "execution_count": 15,
   "metadata": {},
   "outputs": [],
   "source": [
    "# colunm renamed\n",
    "priority = [\"prior\" + str(name) for name in range (0,1000)]\n",
    "priority.insert(0, \"gift\")\n",
    "df_goodkids.columns = priority"
   ]
  },
  {
   "cell_type": "code",
   "execution_count": 16,
   "metadata": {},
   "outputs": [
    {
     "data": {
      "text/html": [
       "<div>\n",
       "<style scoped>\n",
       "    .dataframe tbody tr th:only-of-type {\n",
       "        vertical-align: middle;\n",
       "    }\n",
       "\n",
       "    .dataframe tbody tr th {\n",
       "        vertical-align: top;\n",
       "    }\n",
       "\n",
       "    .dataframe thead th {\n",
       "        text-align: right;\n",
       "    }\n",
       "</style>\n",
       "<table border=\"1\" class=\"dataframe\">\n",
       "  <thead>\n",
       "    <tr style=\"text-align: right;\">\n",
       "      <th></th>\n",
       "      <th>gift</th>\n",
       "      <th>prior0</th>\n",
       "      <th>prior1</th>\n",
       "      <th>prior2</th>\n",
       "      <th>prior3</th>\n",
       "      <th>prior4</th>\n",
       "      <th>prior5</th>\n",
       "      <th>prior6</th>\n",
       "      <th>prior7</th>\n",
       "      <th>prior8</th>\n",
       "      <th>...</th>\n",
       "      <th>prior990</th>\n",
       "      <th>prior991</th>\n",
       "      <th>prior992</th>\n",
       "      <th>prior993</th>\n",
       "      <th>prior994</th>\n",
       "      <th>prior995</th>\n",
       "      <th>prior996</th>\n",
       "      <th>prior997</th>\n",
       "      <th>prior998</th>\n",
       "      <th>prior999</th>\n",
       "    </tr>\n",
       "  </thead>\n",
       "  <tbody>\n",
       "    <tr>\n",
       "      <th>0</th>\n",
       "      <td>0</td>\n",
       "      <td>1373</td>\n",
       "      <td>752341</td>\n",
       "      <td>100505</td>\n",
       "      <td>469875</td>\n",
       "      <td>854398</td>\n",
       "      <td>296716</td>\n",
       "      <td>564625</td>\n",
       "      <td>653466</td>\n",
       "      <td>783635</td>\n",
       "      <td>...</td>\n",
       "      <td>370958</td>\n",
       "      <td>727201</td>\n",
       "      <td>488828</td>\n",
       "      <td>191760</td>\n",
       "      <td>12036</td>\n",
       "      <td>101763</td>\n",
       "      <td>225121</td>\n",
       "      <td>257948</td>\n",
       "      <td>572060</td>\n",
       "      <td>876079</td>\n",
       "    </tr>\n",
       "    <tr>\n",
       "      <th>1</th>\n",
       "      <td>1</td>\n",
       "      <td>626294</td>\n",
       "      <td>218116</td>\n",
       "      <td>646840</td>\n",
       "      <td>15625</td>\n",
       "      <td>701320</td>\n",
       "      <td>71249</td>\n",
       "      <td>617497</td>\n",
       "      <td>341483</td>\n",
       "      <td>501812</td>\n",
       "      <td>...</td>\n",
       "      <td>271311</td>\n",
       "      <td>850930</td>\n",
       "      <td>189870</td>\n",
       "      <td>609739</td>\n",
       "      <td>575242</td>\n",
       "      <td>79309</td>\n",
       "      <td>642355</td>\n",
       "      <td>582890</td>\n",
       "      <td>573428</td>\n",
       "      <td>162350</td>\n",
       "    </tr>\n",
       "  </tbody>\n",
       "</table>\n",
       "<p>2 rows × 1001 columns</p>\n",
       "</div>"
      ],
      "text/plain": [
       "   gift  prior0  prior1  prior2  prior3  prior4  prior5  prior6  prior7  \\\n",
       "0     0    1373  752341  100505  469875  854398  296716  564625  653466   \n",
       "1     1  626294  218116  646840   15625  701320   71249  617497  341483   \n",
       "\n",
       "   prior8    ...     prior990  prior991  prior992  prior993  prior994  \\\n",
       "0  783635    ...       370958    727201    488828    191760     12036   \n",
       "1  501812    ...       271311    850930    189870    609739    575242   \n",
       "\n",
       "   prior995  prior996  prior997  prior998  prior999  \n",
       "0    101763    225121    257948    572060    876079  \n",
       "1     79309    642355    582890    573428    162350  \n",
       "\n",
       "[2 rows x 1001 columns]"
      ]
     },
     "execution_count": 16,
     "metadata": {},
     "output_type": "execute_result"
    }
   ],
   "source": [
    "df_goodkids.head(2)"
   ]
  },
  {
   "cell_type": "code",
   "execution_count": 17,
   "metadata": {},
   "outputs": [
    {
     "data": {
      "text/plain": [
       "567508"
      ]
     },
     "execution_count": 17,
     "metadata": {},
     "output_type": "execute_result"
    }
   ],
   "source": [
    "# unique good kids\n",
    "len(np.unique(df_goodkids.loc[:,\"prior1\":\"prior999\"].values))"
   ]
  },
  {
   "cell_type": "code",
   "execution_count": 18,
   "metadata": {},
   "outputs": [],
   "source": [
    "# list with all kids\n",
    "all_kids = df_goodkids.loc[:,\"prior1\":\"prior999\"].values.tolist()\n",
    "all_kids_flat = list(itertools.chain(*all_kids))"
   ]
  },
  {
   "cell_type": "code",
   "execution_count": 19,
   "metadata": {},
   "outputs": [],
   "source": [
    "# fit = stats.norm.pdf(all_kids_flat, np.mean(all_kids_flat), np.std(all_kids_flat))\n",
    "\n",
    "# hmean = np.mean(all_kids_flat)\n",
    "# hstd = np.std(all_kids_flat)\n",
    "# pdf = stats.norm.pdf(all_kids_flat, hmean, hstd)\n",
    "# plt.plot(all_kids_flat, pdf)"
   ]
  },
  {
   "cell_type": "code",
   "execution_count": 20,
   "metadata": {},
   "outputs": [],
   "source": [
    "# Removing all the kids who aren't in the priority list from Santa, which means they can get their preferable \n",
    "# gift from the whislist\n",
    "\n",
    "# Also removing the 4k first kids from the analyze, once they need to receive the same gift (twins)"
   ]
  },
  {
   "cell_type": "markdown",
   "metadata": {},
   "source": [
    "## Matching Interest: (greedy)\n",
    "* split data to remove twins\n",
    "* remove the kids non present in the priority list (solved case: given then the preferable gift)\n",
    "* map the kids who wants what the priority list name"
   ]
  },
  {
   "cell_type": "code",
   "execution_count": 21,
   "metadata": {},
   "outputs": [],
   "source": [
    "# - T: twins\n",
    "# - NT: non twins\n",
    "\n",
    "# - P: in priority list\n",
    "# - NP: not in priority list"
   ]
  },
  {
   "cell_type": "code",
   "execution_count": 22,
   "metadata": {},
   "outputs": [],
   "source": [
    "# spliting wishlist into \n",
    "    # - twin\n",
    "    # - non twin\n",
    "\n",
    "df_wishlist_T = df_wishlist.iloc[:4000,:].copy()\n",
    "df_wishlist_NT = df_wishlist.iloc[4000:,:].copy()\n",
    "\n",
    "df_wishlist_NT.insert(0,'result', 0)\n",
    "df_wishlist_T.insert(0,'result', 0)\n",
    "\n",
    "# spliting kids into\n",
    "    # - mapped by priority list\n",
    "    # - non mapped by priorty list\n",
    "    \n",
    "all_kids = [kids for kids in range(1000000)]\n",
    "kids_P = np.unique(df_goodkids.loc[:,\"prior1\":\"prior999\"].values).tolist()\n",
    "kids_NP = list(set(all_kids) - set(kids_P))\n",
    "\n",
    "kids_NP_NT = [kid for kid in kids_P if kid > 3999]"
   ]
  },
  {
   "cell_type": "code",
   "execution_count": 23,
   "metadata": {},
   "outputs": [],
   "source": [
    "def getGift(df, mapped_kids, priority):\n",
    "    print(level)\n",
    "    df.loc[:,'result'] = df.loc[mapped_kids,:][\"%s\" % priority].astype(int)\n",
    "    return df"
   ]
  },
  {
   "cell_type": "code",
   "execution_count": 24,
   "metadata": {},
   "outputs": [
    {
     "data": {
      "text/html": [
       "<div>\n",
       "<style scoped>\n",
       "    .dataframe tbody tr th:only-of-type {\n",
       "        vertical-align: middle;\n",
       "    }\n",
       "\n",
       "    .dataframe tbody tr th {\n",
       "        vertical-align: top;\n",
       "    }\n",
       "\n",
       "    .dataframe thead th {\n",
       "        text-align: right;\n",
       "    }\n",
       "</style>\n",
       "<table border=\"1\" class=\"dataframe\">\n",
       "  <thead>\n",
       "    <tr style=\"text-align: right;\">\n",
       "      <th></th>\n",
       "      <th>gift</th>\n",
       "      <th>prior0</th>\n",
       "      <th>prior1</th>\n",
       "      <th>prior2</th>\n",
       "      <th>prior3</th>\n",
       "      <th>prior4</th>\n",
       "      <th>prior5</th>\n",
       "      <th>prior6</th>\n",
       "      <th>prior7</th>\n",
       "      <th>prior8</th>\n",
       "      <th>...</th>\n",
       "      <th>prior990</th>\n",
       "      <th>prior991</th>\n",
       "      <th>prior992</th>\n",
       "      <th>prior993</th>\n",
       "      <th>prior994</th>\n",
       "      <th>prior995</th>\n",
       "      <th>prior996</th>\n",
       "      <th>prior997</th>\n",
       "      <th>prior998</th>\n",
       "      <th>prior999</th>\n",
       "    </tr>\n",
       "  </thead>\n",
       "  <tbody>\n",
       "    <tr>\n",
       "      <th>0</th>\n",
       "      <td>0</td>\n",
       "      <td>1373</td>\n",
       "      <td>752341</td>\n",
       "      <td>100505</td>\n",
       "      <td>469875</td>\n",
       "      <td>854398</td>\n",
       "      <td>296716</td>\n",
       "      <td>564625</td>\n",
       "      <td>653466</td>\n",
       "      <td>783635</td>\n",
       "      <td>...</td>\n",
       "      <td>370958</td>\n",
       "      <td>727201</td>\n",
       "      <td>488828</td>\n",
       "      <td>191760</td>\n",
       "      <td>12036</td>\n",
       "      <td>101763</td>\n",
       "      <td>225121</td>\n",
       "      <td>257948</td>\n",
       "      <td>572060</td>\n",
       "      <td>876079</td>\n",
       "    </tr>\n",
       "    <tr>\n",
       "      <th>1</th>\n",
       "      <td>1</td>\n",
       "      <td>626294</td>\n",
       "      <td>218116</td>\n",
       "      <td>646840</td>\n",
       "      <td>15625</td>\n",
       "      <td>701320</td>\n",
       "      <td>71249</td>\n",
       "      <td>617497</td>\n",
       "      <td>341483</td>\n",
       "      <td>501812</td>\n",
       "      <td>...</td>\n",
       "      <td>271311</td>\n",
       "      <td>850930</td>\n",
       "      <td>189870</td>\n",
       "      <td>609739</td>\n",
       "      <td>575242</td>\n",
       "      <td>79309</td>\n",
       "      <td>642355</td>\n",
       "      <td>582890</td>\n",
       "      <td>573428</td>\n",
       "      <td>162350</td>\n",
       "    </tr>\n",
       "  </tbody>\n",
       "</table>\n",
       "<p>2 rows × 1001 columns</p>\n",
       "</div>"
      ],
      "text/plain": [
       "   gift  prior0  prior1  prior2  prior3  prior4  prior5  prior6  prior7  \\\n",
       "0     0    1373  752341  100505  469875  854398  296716  564625  653466   \n",
       "1     1  626294  218116  646840   15625  701320   71249  617497  341483   \n",
       "\n",
       "   prior8    ...     prior990  prior991  prior992  prior993  prior994  \\\n",
       "0  783635    ...       370958    727201    488828    191760     12036   \n",
       "1  501812    ...       271311    850930    189870    609739    575242   \n",
       "\n",
       "   prior995  prior996  prior997  prior998  prior999  \n",
       "0    101763    225121    257948    572060    876079  \n",
       "1     79309    642355    582890    573428    162350  \n",
       "\n",
       "[2 rows x 1001 columns]"
      ]
     },
     "execution_count": 24,
     "metadata": {},
     "output_type": "execute_result"
    }
   ],
   "source": [
    "df_goodkids.head(2)"
   ]
  },
  {
   "cell_type": "code",
   "execution_count": 25,
   "metadata": {},
   "outputs": [
    {
     "data": {
      "text/html": [
       "<div>\n",
       "<style scoped>\n",
       "    .dataframe tbody tr th:only-of-type {\n",
       "        vertical-align: middle;\n",
       "    }\n",
       "\n",
       "    .dataframe tbody tr th {\n",
       "        vertical-align: top;\n",
       "    }\n",
       "\n",
       "    .dataframe thead th {\n",
       "        text-align: right;\n",
       "    }\n",
       "</style>\n",
       "<table border=\"1\" class=\"dataframe\">\n",
       "  <thead>\n",
       "    <tr style=\"text-align: right;\">\n",
       "      <th></th>\n",
       "      <th>result</th>\n",
       "      <th>child</th>\n",
       "      <th>g0</th>\n",
       "      <th>g1</th>\n",
       "      <th>g2</th>\n",
       "      <th>g3</th>\n",
       "      <th>g4</th>\n",
       "      <th>g5</th>\n",
       "      <th>g6</th>\n",
       "      <th>g7</th>\n",
       "      <th>g8</th>\n",
       "      <th>g9</th>\n",
       "    </tr>\n",
       "  </thead>\n",
       "  <tbody>\n",
       "    <tr>\n",
       "      <th>4000</th>\n",
       "      <td>0</td>\n",
       "      <td>4000</td>\n",
       "      <td>700</td>\n",
       "      <td>440</td>\n",
       "      <td>350</td>\n",
       "      <td>840</td>\n",
       "      <td>780</td>\n",
       "      <td>604</td>\n",
       "      <td>81</td>\n",
       "      <td>197</td>\n",
       "      <td>88</td>\n",
       "      <td>504</td>\n",
       "    </tr>\n",
       "    <tr>\n",
       "      <th>4001</th>\n",
       "      <td>0</td>\n",
       "      <td>4001</td>\n",
       "      <td>656</td>\n",
       "      <td>507</td>\n",
       "      <td>498</td>\n",
       "      <td>471</td>\n",
       "      <td>964</td>\n",
       "      <td>913</td>\n",
       "      <td>343</td>\n",
       "      <td>541</td>\n",
       "      <td>169</td>\n",
       "      <td>419</td>\n",
       "    </tr>\n",
       "  </tbody>\n",
       "</table>\n",
       "</div>"
      ],
      "text/plain": [
       "      result  child   g0   g1   g2   g3   g4   g5   g6   g7   g8   g9\n",
       "4000       0   4000  700  440  350  840  780  604   81  197   88  504\n",
       "4001       0   4001  656  507  498  471  964  913  343  541  169  419"
      ]
     },
     "execution_count": 25,
     "metadata": {},
     "output_type": "execute_result"
    }
   ],
   "source": [
    "df_wishlist_NT.head(2)"
   ]
  },
  {
   "cell_type": "code",
   "execution_count": null,
   "metadata": {},
   "outputs": [],
   "source": [
    "# %%time\n",
    "# for gift in range (10):\n",
    "#     for priority in range (1000):\n",
    "#         greedy_result = df_wishlist_NT['g%s' %gift].isin(df_goodkids['prior%s' %priority])\n",
    "        \n",
    "        \n",
    "#         for child in greedy_result.index[greedy_result].tolist():\n",
    "#             df_wishlist_NT.loc[child:child,'result'] = df_wishlist_NT.loc[child:child,'g%s' %gift]"
   ]
  },
  {
   "cell_type": "markdown",
   "metadata": {},
   "source": [
    "## Max/Min-Cost Flow "
   ]
  },
  {
   "cell_type": "code",
   "execution_count": null,
   "metadata": {},
   "outputs": [],
   "source": []
  }
 ],
 "metadata": {
  "kernelspec": {
   "display_name": "Python 3",
   "language": "python",
   "name": "python3"
  },
  "language_info": {
   "codemirror_mode": {
    "name": "ipython",
    "version": 3
   },
   "file_extension": ".py",
   "mimetype": "text/x-python",
   "name": "python",
   "nbconvert_exporter": "python",
   "pygments_lexer": "ipython3",
   "version": "3.6.3"
  }
 },
 "nbformat": 4,
 "nbformat_minor": 2
}
